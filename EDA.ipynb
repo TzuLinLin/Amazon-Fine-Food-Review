{
  "nbformat": 4,
  "nbformat_minor": 0,
  "metadata": {
    "colab": {
      "name": "Code_Karen.ipynb",
      "provenance": []
    },
    "kernelspec": {
      "name": "python3",
      "display_name": "Python 3"
    },
    "language_info": {
      "name": "python"
    },
    "accelerator": "TPU"
  },
  "cells": [
    {
      "cell_type": "code",
      "metadata": {
        "id": "Hwoe85jsFqNt"
      },
      "source": [
        "import pandas as pd\n",
        "import numpy as np\n",
        "from datetime import datetime\n",
        "import matplotlib.pyplot as plt\n",
        "import seaborn as sns\n",
        "from tqdm import tqdm\n",
        "from bs4 import BeautifulSoup\n",
        "import re"
      ],
      "execution_count": null,
      "outputs": []
    },
    {
      "cell_type": "code",
      "metadata": {
        "id": "ZY0D1STpFqQw"
      },
      "source": [
        "df = pd.read_csv(\"/content/drive/MyDrive/Reviews_withURL.csv\")"
      ],
      "execution_count": null,
      "outputs": []
    },
    {
      "cell_type": "code",
      "metadata": {
        "colab": {
          "base_uri": "https://localhost:8080/"
        },
        "id": "q5K_KcsebGJN",
        "outputId": "ccad7d58-a9bf-429f-ba56-010405075f1f"
      },
      "source": [
        "df.shape"
      ],
      "execution_count": null,
      "outputs": [
        {
          "output_type": "execute_result",
          "data": {
            "text/plain": [
              "(568454, 10)"
            ]
          },
          "metadata": {
            "tags": []
          },
          "execution_count": 3
        }
      ]
    },
    {
      "cell_type": "code",
      "metadata": {
        "colab": {
          "base_uri": "https://localhost:8080/",
          "height": 306
        },
        "id": "SPym7R4jFqTG",
        "outputId": "b8e9cd12-a352-4f57-b362-fa688677d513"
      },
      "source": [
        "df.head()"
      ],
      "execution_count": null,
      "outputs": [
        {
          "output_type": "execute_result",
          "data": {
            "text/html": [
              "<div>\n",
              "<style scoped>\n",
              "    .dataframe tbody tr th:only-of-type {\n",
              "        vertical-align: middle;\n",
              "    }\n",
              "\n",
              "    .dataframe tbody tr th {\n",
              "        vertical-align: top;\n",
              "    }\n",
              "\n",
              "    .dataframe thead th {\n",
              "        text-align: right;\n",
              "    }\n",
              "</style>\n",
              "<table border=\"1\" class=\"dataframe\">\n",
              "  <thead>\n",
              "    <tr style=\"text-align: right;\">\n",
              "      <th></th>\n",
              "      <th>Id</th>\n",
              "      <th>ProductId</th>\n",
              "      <th>UserId</th>\n",
              "      <th>ProfileName</th>\n",
              "      <th>HelpfulnessNumerator</th>\n",
              "      <th>HelpfulnessDenominator</th>\n",
              "      <th>Score</th>\n",
              "      <th>Time</th>\n",
              "      <th>Summary</th>\n",
              "      <th>Text</th>\n",
              "    </tr>\n",
              "  </thead>\n",
              "  <tbody>\n",
              "    <tr>\n",
              "      <th>0</th>\n",
              "      <td>1</td>\n",
              "      <td>B001E4KFG0</td>\n",
              "      <td>A3SGXH7AUHU8GW</td>\n",
              "      <td>delmartian</td>\n",
              "      <td>1</td>\n",
              "      <td>1</td>\n",
              "      <td>5</td>\n",
              "      <td>1303862400</td>\n",
              "      <td>Good Quality Dog Food</td>\n",
              "      <td>I have bought several of the Vitality canned d...</td>\n",
              "    </tr>\n",
              "    <tr>\n",
              "      <th>1</th>\n",
              "      <td>2</td>\n",
              "      <td>B00813GRG4</td>\n",
              "      <td>A1D87F6ZCVE5NK</td>\n",
              "      <td>dll pa</td>\n",
              "      <td>0</td>\n",
              "      <td>0</td>\n",
              "      <td>1</td>\n",
              "      <td>1346976000</td>\n",
              "      <td>Not as Advertised</td>\n",
              "      <td>Product arrived labeled as Jumbo Salted Peanut...</td>\n",
              "    </tr>\n",
              "    <tr>\n",
              "      <th>2</th>\n",
              "      <td>3</td>\n",
              "      <td>B000LQOCH0</td>\n",
              "      <td>ABXLMWJIXXAIN</td>\n",
              "      <td>Natalia Corres \"Natalia Corres\"</td>\n",
              "      <td>1</td>\n",
              "      <td>1</td>\n",
              "      <td>4</td>\n",
              "      <td>1219017600</td>\n",
              "      <td>\"Delight\" says it all</td>\n",
              "      <td>This is a confection that has been around a fe...</td>\n",
              "    </tr>\n",
              "    <tr>\n",
              "      <th>3</th>\n",
              "      <td>4</td>\n",
              "      <td>B000UA0QIQ</td>\n",
              "      <td>A395BORC6FGVXV</td>\n",
              "      <td>Karl</td>\n",
              "      <td>3</td>\n",
              "      <td>3</td>\n",
              "      <td>2</td>\n",
              "      <td>1307923200</td>\n",
              "      <td>Cough Medicine</td>\n",
              "      <td>If you are looking for the secret ingredient i...</td>\n",
              "    </tr>\n",
              "    <tr>\n",
              "      <th>4</th>\n",
              "      <td>5</td>\n",
              "      <td>B006K2ZZ7K</td>\n",
              "      <td>A1UQRSCLF8GW1T</td>\n",
              "      <td>Michael D. Bigham \"M. Wassir\"</td>\n",
              "      <td>0</td>\n",
              "      <td>0</td>\n",
              "      <td>5</td>\n",
              "      <td>1350777600</td>\n",
              "      <td>Great taffy</td>\n",
              "      <td>Great taffy at a great price.  There was a wid...</td>\n",
              "    </tr>\n",
              "  </tbody>\n",
              "</table>\n",
              "</div>"
            ],
            "text/plain": [
              "   Id  ...                                               Text\n",
              "0   1  ...  I have bought several of the Vitality canned d...\n",
              "1   2  ...  Product arrived labeled as Jumbo Salted Peanut...\n",
              "2   3  ...  This is a confection that has been around a fe...\n",
              "3   4  ...  If you are looking for the secret ingredient i...\n",
              "4   5  ...  Great taffy at a great price.  There was a wid...\n",
              "\n",
              "[5 rows x 10 columns]"
            ]
          },
          "metadata": {
            "tags": []
          },
          "execution_count": 79
        }
      ]
    },
    {
      "cell_type": "markdown",
      "metadata": {
        "id": "i9736jUgo5EU"
      },
      "source": [
        "# Text Preprocessing"
      ]
    },
    {
      "cell_type": "code",
      "metadata": {
        "id": "Q6UKxXmVmqo7"
      },
      "source": [
        "df['Time_Date'] = pd.to_datetime(df['Time'],unit='s')\n",
        "df['Time_Month'] = df['Time'].apply(lambda col: datetime.utcfromtimestamp(int(col)).strftime('%Y-%m'))\n",
        "\n"
      ],
      "execution_count": null,
      "outputs": []
    },
    {
      "cell_type": "code",
      "metadata": {
        "id": "aJwuzFGYaz1m"
      },
      "source": [
        "#df = df.drop_duplicates(subset={\"UserId\",\"ProfileName\",\"Time\",\"Text\"})\n",
        "#df = df[df['HelpfulnessNumerator'] <= df['HelpfulnessDenominator']]\n",
        "\n",
        "df['Helpfulness_ratio'] = df['HelpfulnessNumerator'] / df['HelpfulnessDenominator']\n",
        "df = df[(df['Helpfulness_ratio'] >= 0.0) & (df['Helpfulness_ratio'] <= 1.0)]"
      ],
      "execution_count": null,
      "outputs": []
    },
    {
      "cell_type": "code",
      "metadata": {
        "id": "-uG_-_S_-ZYs"
      },
      "source": [
        "df = df.reset_index(drop = True)"
      ],
      "execution_count": null,
      "outputs": []
    },
    {
      "cell_type": "code",
      "metadata": {
        "colab": {
          "base_uri": "https://localhost:8080/"
        },
        "id": "KdVhr0jlbKcY",
        "outputId": "09f0b9b6-d497-474c-eda6-e70908096747"
      },
      "source": [
        "df.shape"
      ],
      "execution_count": null,
      "outputs": [
        {
          "output_type": "execute_result",
          "data": {
            "text/plain": [
              "(298400, 11)"
            ]
          },
          "metadata": {
            "tags": []
          },
          "execution_count": 60
        }
      ]
    },
    {
      "cell_type": "code",
      "metadata": {
        "colab": {
          "base_uri": "https://localhost:8080/"
        },
        "id": "VoxlCuwdoBEP",
        "outputId": "ba451a46-ad75-4b36-e96c-a2af574deb25"
      },
      "source": [
        "def decontracted(phrase):\n",
        "    # specific\n",
        "    phrase = re.sub(r\"won't\", \"will not\", phrase)\n",
        "    phrase = re.sub(r\"can\\'t\", \"can not\", phrase)\n",
        "\n",
        "    # general\n",
        "    phrase = re.sub(r\"n\\'t\", \" not\", phrase)\n",
        "    phrase = re.sub(r\"\\'re\", \" are\", phrase)\n",
        "    phrase = re.sub(r\"\\'s\", \" is\", phrase)\n",
        "    phrase = re.sub(r\"\\'d\", \" would\", phrase)\n",
        "    phrase = re.sub(r\"\\'ll\", \" will\", phrase)\n",
        "    phrase = re.sub(r\"\\'t\", \" not\", phrase)\n",
        "    phrase = re.sub(r\"\\'ve\", \" have\", phrase)\n",
        "    phrase = re.sub(r\"\\'m\", \" am\", phrase)\n",
        "    return phrase\n",
        "\n",
        "\n",
        "stopwords= set(['br', 'the', 'i', 'me', 'my', 'myself', 'we', 'our', 'ours', 'ourselves', 'you', \"you're\", \"you've\",\\\n",
        "            \"you'll\", \"you'd\", 'your', 'yours', 'yourself', 'yourselves', 'he', 'him', 'his', 'himself', \\\n",
        "            'she', \"she's\", 'her', 'hers', 'herself', 'it', \"it's\", 'its', 'itself', 'they', 'them', 'their',\\\n",
        "            'theirs', 'themselves', 'what', 'which', 'who', 'whom', 'this', 'that', \"that'll\", 'these', 'those', \\\n",
        "            'am', 'is', 'are', 'was', 'were', 'be', 'been', 'being', 'have', 'has', 'had', 'having', 'do', 'does', \\\n",
        "            'did', 'doing', 'a', 'an', 'the', 'and', 'but', 'if', 'or', 'because', 'as', 'until', 'while', 'of', \\\n",
        "            'at', 'by', 'for', 'with', 'about', 'against', 'between', 'into', 'through', 'during', 'before', 'after',\\\n",
        "            'above', 'below', 'to', 'from', 'up', 'down', 'in', 'out', 'on', 'off', 'over', 'under', 'again', 'further',\\\n",
        "            'then', 'once', 'here', 'there', 'when', 'where', 'why', 'how', 'all', 'any', 'both', 'each', 'few', 'more',\\\n",
        "            'most', 'other', 'some', 'such', 'only', 'own', 'same', 'so', 'than', 'too', 'very', \\\n",
        "            's', 't', 'can', 'will', 'just', 'don', \"don't\", 'should', \"should've\", 'now', 'd', 'll', 'm', 'o', 're', \\\n",
        "            've', 'y', 'ain', 'aren', \"aren't\", 'couldn', \"couldn't\", 'didn', \"didn't\", 'doesn', \"doesn't\", 'hadn',\\\n",
        "            \"hadn't\", 'hasn', \"hasn't\", 'haven', \"haven't\", 'isn', \"isn't\", 'ma', 'mightn', \"mightn't\", 'mustn',\\\n",
        "            \"mustn't\", 'needn', \"needn't\", 'shan', \"shan't\", 'shouldn', \"shouldn't\", 'wasn', \"wasn't\", 'weren', \"weren't\", \\\n",
        "            'won', \"won't\", 'wouldn', \"wouldn't\"])\n",
        "\n",
        "\n",
        "\n",
        "preprocessed_reviews = []\n",
        "\n",
        "for sentance in tqdm(df['Text'].values):\n",
        "    sentance = re.sub(r\"http\\S+\", \"\", sentance)\n",
        "\n",
        "    sentance = BeautifulSoup(sentance, 'lxml').get_text()\n",
        "    sentance = decontracted(sentance)\n",
        "\n",
        "    sentance = re.sub(\"\\S*\\d\\S*\", \"\", sentance).strip()\n",
        "\n",
        "    sentance = re.sub('[^A-Za-z]+', ' ', sentance)\n",
        "\n",
        "    sentance = ' '.join(e.lower() for e in sentance.split() if e.lower() not in stopwords)\n",
        "    preprocessed_reviews.append(sentance.strip())\n",
        "\n"
      ],
      "execution_count": null,
      "outputs": [
        {
          "output_type": "stream",
          "text": [
            "100%|██████████| 298400/298400 [02:05<00:00, 2371.49it/s]\n"
          ],
          "name": "stderr"
        }
      ]
    },
    {
      "cell_type": "code",
      "metadata": {
        "id": "YAMTFmybv8dF"
      },
      "source": [
        "df['clean_text'] = preprocessed_reviews\n"
      ],
      "execution_count": null,
      "outputs": []
    },
    {
      "cell_type": "code",
      "metadata": {
        "colab": {
          "base_uri": "https://localhost:8080/",
          "height": 666
        },
        "id": "BZWHM5rvpgUJ",
        "outputId": "8b79aece-5df6-4749-8621-48f32c61a636"
      },
      "source": [
        "df.head()"
      ],
      "execution_count": null,
      "outputs": [
        {
          "output_type": "execute_result",
          "data": {
            "text/html": [
              "<div>\n",
              "<style scoped>\n",
              "    .dataframe tbody tr th:only-of-type {\n",
              "        vertical-align: middle;\n",
              "    }\n",
              "\n",
              "    .dataframe tbody tr th {\n",
              "        vertical-align: top;\n",
              "    }\n",
              "\n",
              "    .dataframe thead th {\n",
              "        text-align: right;\n",
              "    }\n",
              "</style>\n",
              "<table border=\"1\" class=\"dataframe\">\n",
              "  <thead>\n",
              "    <tr style=\"text-align: right;\">\n",
              "      <th></th>\n",
              "      <th>Id</th>\n",
              "      <th>ProductId</th>\n",
              "      <th>UserId</th>\n",
              "      <th>ProfileName</th>\n",
              "      <th>HelpfulnessNumerator</th>\n",
              "      <th>HelpfulnessDenominator</th>\n",
              "      <th>Score</th>\n",
              "      <th>Time</th>\n",
              "      <th>Summary</th>\n",
              "      <th>Text</th>\n",
              "      <th>Helpfulness_ratio</th>\n",
              "      <th>Time_Date</th>\n",
              "      <th>Time_Month</th>\n",
              "      <th>clean_text</th>\n",
              "    </tr>\n",
              "  </thead>\n",
              "  <tbody>\n",
              "    <tr>\n",
              "      <th>0</th>\n",
              "      <td>1</td>\n",
              "      <td>B001E4KFG0</td>\n",
              "      <td>A3SGXH7AUHU8GW</td>\n",
              "      <td>delmartian</td>\n",
              "      <td>1</td>\n",
              "      <td>1</td>\n",
              "      <td>5</td>\n",
              "      <td>1303862400</td>\n",
              "      <td>Good Quality Dog Food</td>\n",
              "      <td>I have bought several of the Vitality canned d...</td>\n",
              "      <td>1.0</td>\n",
              "      <td>2011-04-27</td>\n",
              "      <td>2011-04</td>\n",
              "      <td>bought several vitality canned dog food produc...</td>\n",
              "    </tr>\n",
              "    <tr>\n",
              "      <th>1</th>\n",
              "      <td>3</td>\n",
              "      <td>B000LQOCH0</td>\n",
              "      <td>ABXLMWJIXXAIN</td>\n",
              "      <td>Natalia Corres \"Natalia Corres\"</td>\n",
              "      <td>1</td>\n",
              "      <td>1</td>\n",
              "      <td>4</td>\n",
              "      <td>1219017600</td>\n",
              "      <td>\"Delight\" says it all</td>\n",
              "      <td>This is a confection that has been around a fe...</td>\n",
              "      <td>1.0</td>\n",
              "      <td>2008-08-18</td>\n",
              "      <td>2008-08</td>\n",
              "      <td>confection around centuries light pillowy citr...</td>\n",
              "    </tr>\n",
              "    <tr>\n",
              "      <th>2</th>\n",
              "      <td>4</td>\n",
              "      <td>B000UA0QIQ</td>\n",
              "      <td>A395BORC6FGVXV</td>\n",
              "      <td>Karl</td>\n",
              "      <td>3</td>\n",
              "      <td>3</td>\n",
              "      <td>2</td>\n",
              "      <td>1307923200</td>\n",
              "      <td>Cough Medicine</td>\n",
              "      <td>If you are looking for the secret ingredient i...</td>\n",
              "      <td>1.0</td>\n",
              "      <td>2011-06-13</td>\n",
              "      <td>2011-06</td>\n",
              "      <td>looking secret ingredient robitussin believe f...</td>\n",
              "    </tr>\n",
              "    <tr>\n",
              "      <th>3</th>\n",
              "      <td>9</td>\n",
              "      <td>B000E7L2R4</td>\n",
              "      <td>A1MZYO9TZK0BBI</td>\n",
              "      <td>R. James</td>\n",
              "      <td>1</td>\n",
              "      <td>1</td>\n",
              "      <td>5</td>\n",
              "      <td>1322006400</td>\n",
              "      <td>Yay Barley</td>\n",
              "      <td>Right now I'm mostly just sprouting this so my...</td>\n",
              "      <td>1.0</td>\n",
              "      <td>2011-11-23</td>\n",
              "      <td>2011-11</td>\n",
              "      <td>right mostly sprouting cats eat grass love rot...</td>\n",
              "    </tr>\n",
              "    <tr>\n",
              "      <th>4</th>\n",
              "      <td>11</td>\n",
              "      <td>B0001PB9FE</td>\n",
              "      <td>A3HDKO7OW0QNK4</td>\n",
              "      <td>Canadian Fan</td>\n",
              "      <td>1</td>\n",
              "      <td>1</td>\n",
              "      <td>5</td>\n",
              "      <td>1107820800</td>\n",
              "      <td>The Best Hot Sauce in the World</td>\n",
              "      <td>I don't know if it's the cactus or the tequila...</td>\n",
              "      <td>1.0</td>\n",
              "      <td>2005-02-08</td>\n",
              "      <td>2005-02</td>\n",
              "      <td>not know cactus tequila unique combination ing...</td>\n",
              "    </tr>\n",
              "  </tbody>\n",
              "</table>\n",
              "</div>"
            ],
            "text/plain": [
              "   Id   ProductId  ... Time_Month                                         clean_text\n",
              "0   1  B001E4KFG0  ...    2011-04  bought several vitality canned dog food produc...\n",
              "1   3  B000LQOCH0  ...    2008-08  confection around centuries light pillowy citr...\n",
              "2   4  B000UA0QIQ  ...    2011-06  looking secret ingredient robitussin believe f...\n",
              "3   9  B000E7L2R4  ...    2011-11  right mostly sprouting cats eat grass love rot...\n",
              "4  11  B0001PB9FE  ...    2005-02  not know cactus tequila unique combination ing...\n",
              "\n",
              "[5 rows x 14 columns]"
            ]
          },
          "metadata": {
            "tags": []
          },
          "execution_count": 9
        }
      ]
    },
    {
      "cell_type": "code",
      "metadata": {
        "id": "PeCz-p0hpgg6"
      },
      "source": [
        "df[\"clean_text_length\"] = df['clean_text'].apply(lambda col: len(col.split(' ')))\n",
        "df[\"text_length\"] = df['Text'].apply(lambda col: len(col.split(' ')))"
      ],
      "execution_count": null,
      "outputs": []
    },
    {
      "cell_type": "code",
      "metadata": {
        "colab": {
          "base_uri": "https://localhost:8080/"
        },
        "id": "e9dXSTWFskJQ",
        "outputId": "d78dace7-89a9-4306-d196-3cfbf2f3537f"
      },
      "source": [
        "df.isnull().sum()\n"
      ],
      "execution_count": null,
      "outputs": [
        {
          "output_type": "execute_result",
          "data": {
            "text/plain": [
              "Id                         0\n",
              "ProductId                  0\n",
              "UserId                     0\n",
              "ProfileName                4\n",
              "HelpfulnessNumerator       0\n",
              "HelpfulnessDenominator     0\n",
              "Score                      0\n",
              "Time                       0\n",
              "Summary                   26\n",
              "Text                       0\n",
              "Helpfulness_ratio          0\n",
              "Time_Date                  0\n",
              "Time_Month                 0\n",
              "clean_text                 0\n",
              "clean_text_length          0\n",
              "text_length                0\n",
              "dtype: int64"
            ]
          },
          "metadata": {
            "tags": []
          },
          "execution_count": 11
        }
      ]
    },
    {
      "cell_type": "code",
      "metadata": {
        "id": "4vlYxU_uskOe"
      },
      "source": [
        "df.dropna(inplace=True)\n"
      ],
      "execution_count": null,
      "outputs": []
    },
    {
      "cell_type": "code",
      "metadata": {
        "colab": {
          "base_uri": "https://localhost:8080/",
          "height": 52
        },
        "id": "WMk4rgRwskT5",
        "outputId": "343a8e83-97ea-4e3e-9d47-9ac48b8e7e92"
      },
      "source": [
        "df['clean_text'][1]"
      ],
      "execution_count": null,
      "outputs": [
        {
          "output_type": "execute_result",
          "data": {
            "application/vnd.google.colaboratory.intrinsic+json": {
              "type": "string"
            },
            "text/plain": [
              "'confection around centuries light pillowy citrus gelatin nuts case filberts cut tiny squares liberally coated powdered sugar tiny mouthful heaven not chewy flavorful highly recommend yummy treat familiar story c lewis lion witch wardrobe treat seduces edmund selling brother sisters witch'"
            ]
          },
          "metadata": {
            "tags": []
          },
          "execution_count": 64
        }
      ]
    },
    {
      "cell_type": "code",
      "metadata": {
        "colab": {
          "base_uri": "https://localhost:8080/",
          "height": 300
        },
        "id": "5GaIyWq0skpB",
        "outputId": "6d0e4834-6ec5-488f-f389-b150e7301aff"
      },
      "source": [
        "df[\"text_length\"].hist(bins=1000);\n",
        "plt.xlim(0,400)\n",
        "plt.xlabel(\"Review length\",fontsize=14)\n",
        "plt.ylabel(\"Count\",fontsize=14)\n",
        "\n",
        "plt.title('Review length distribution',fontsize=14);"
      ],
      "execution_count": null,
      "outputs": [
        {
          "output_type": "display_data",
          "data": {
            "image/png": "[encoded data removed]",
            "text/plain": [
              "<Figure size 432x288 with 1 Axes>"
            ]
          },
          "metadata": {
            "tags": [],
            "needs_background": "light"
          }
        }
      ]
    },
    {
      "cell_type": "code",
      "metadata": {
        "colab": {
          "base_uri": "https://localhost:8080/",
          "height": 300
        },
        "id": "mfOpKQPr5f6C",
        "outputId": "1ca11dc7-ff3b-419f-d167-60c63ce4ec97"
      },
      "source": [
        "df[\"clean_text_length\"].hist(bins=1000);\n",
        "plt.xlim(0,400)\n",
        "plt.xlabel(\"Review length\",fontsize=14)\n",
        "plt.ylabel(\"Count\",fontsize=14)\n",
        "\n",
        "plt.title('Clean review length distribution',fontsize=14);"
      ],
      "execution_count": null,
      "outputs": [
        {
          "output_type": "display_data",
          "data": {
            "image/png": "[encoded data removed]",
            "text/plain": [
              "<Figure size 432x288 with 1 Axes>"
            ]
          },
          "metadata": {
            "tags": [],
            "needs_background": "light"
          }
        }
      ]
    },
    {
      "cell_type": "code",
      "metadata": {
        "colab": {
          "base_uri": "https://localhost:8080/"
        },
        "id": "Dbn7K7b1gHBs",
        "outputId": "c9cb829e-c487-4103-9c92-d18f1db97ac7"
      },
      "source": [
        "df[\"Helpfulness_ratio\"].value_counts()"
      ],
      "execution_count": null,
      "outputs": [
        {
          "output_type": "execute_result",
          "data": {
            "text/plain": [
              "1.000000    183306\n",
              "0.000000     33774\n",
              "0.500000     21623\n",
              "0.666667     10513\n",
              "0.750000      6364\n",
              "             ...  \n",
              "0.530303         1\n",
              "0.089552         1\n",
              "0.028302         1\n",
              "0.991870         1\n",
              "0.490909         1\n",
              "Name: Helpfulness_ratio, Length: 949, dtype: int64"
            ]
          },
          "metadata": {
            "tags": []
          },
          "execution_count": 65
        }
      ]
    },
    {
      "cell_type": "code",
      "metadata": {
        "colab": {
          "base_uri": "https://localhost:8080/",
          "height": 255
        },
        "id": "G0XQXNiS088r",
        "outputId": "d7fa8a73-7813-46f5-ef79-51af19e578b4"
      },
      "source": [
        "user_number_review = df.groupby(by = ['UserId']).count().sort_values(by = ['Text'],ascending=False)\n",
        "\n",
        "user_number_review.head()"
      ],
      "execution_count": null,
      "outputs": [
        {
          "output_type": "execute_result",
          "data": {
            "text/html": [
              "<div>\n",
              "<style scoped>\n",
              "    .dataframe tbody tr th:only-of-type {\n",
              "        vertical-align: middle;\n",
              "    }\n",
              "\n",
              "    .dataframe tbody tr th {\n",
              "        vertical-align: top;\n",
              "    }\n",
              "\n",
              "    .dataframe thead th {\n",
              "        text-align: right;\n",
              "    }\n",
              "</style>\n",
              "<table border=\"1\" class=\"dataframe\">\n",
              "  <thead>\n",
              "    <tr style=\"text-align: right;\">\n",
              "      <th></th>\n",
              "      <th>Id</th>\n",
              "      <th>ProductId</th>\n",
              "      <th>ProfileName</th>\n",
              "      <th>HelpfulnessNumerator</th>\n",
              "      <th>HelpfulnessDenominator</th>\n",
              "      <th>Score</th>\n",
              "      <th>Time</th>\n",
              "      <th>Summary</th>\n",
              "      <th>Text</th>\n",
              "      <th>Helpfulness_ratio</th>\n",
              "      <th>clean_text</th>\n",
              "      <th>clean_text_length</th>\n",
              "      <th>text_length</th>\n",
              "    </tr>\n",
              "    <tr>\n",
              "      <th>UserId</th>\n",
              "      <th></th>\n",
              "      <th></th>\n",
              "      <th></th>\n",
              "      <th></th>\n",
              "      <th></th>\n",
              "      <th></th>\n",
              "      <th></th>\n",
              "      <th></th>\n",
              "      <th></th>\n",
              "      <th></th>\n",
              "      <th></th>\n",
              "      <th></th>\n",
              "      <th></th>\n",
              "    </tr>\n",
              "  </thead>\n",
              "  <tbody>\n",
              "    <tr>\n",
              "      <th>A1YUL9PCJR3JTY</th>\n",
              "      <td>367</td>\n",
              "      <td>367</td>\n",
              "      <td>367</td>\n",
              "      <td>367</td>\n",
              "      <td>367</td>\n",
              "      <td>367</td>\n",
              "      <td>367</td>\n",
              "      <td>367</td>\n",
              "      <td>367</td>\n",
              "      <td>367</td>\n",
              "      <td>367</td>\n",
              "      <td>367</td>\n",
              "      <td>367</td>\n",
              "    </tr>\n",
              "    <tr>\n",
              "      <th>A281NPSIMI1C2R</th>\n",
              "      <td>241</td>\n",
              "      <td>241</td>\n",
              "      <td>241</td>\n",
              "      <td>241</td>\n",
              "      <td>241</td>\n",
              "      <td>241</td>\n",
              "      <td>241</td>\n",
              "      <td>241</td>\n",
              "      <td>241</td>\n",
              "      <td>241</td>\n",
              "      <td>241</td>\n",
              "      <td>241</td>\n",
              "      <td>241</td>\n",
              "    </tr>\n",
              "    <tr>\n",
              "      <th>A3OXHLG6DIBRW8</th>\n",
              "      <td>221</td>\n",
              "      <td>221</td>\n",
              "      <td>221</td>\n",
              "      <td>221</td>\n",
              "      <td>221</td>\n",
              "      <td>221</td>\n",
              "      <td>221</td>\n",
              "      <td>221</td>\n",
              "      <td>221</td>\n",
              "      <td>221</td>\n",
              "      <td>221</td>\n",
              "      <td>221</td>\n",
              "      <td>221</td>\n",
              "    </tr>\n",
              "    <tr>\n",
              "      <th>A3TVZM3ZIXG8YW</th>\n",
              "      <td>199</td>\n",
              "      <td>199</td>\n",
              "      <td>199</td>\n",
              "      <td>199</td>\n",
              "      <td>199</td>\n",
              "      <td>199</td>\n",
              "      <td>199</td>\n",
              "      <td>199</td>\n",
              "      <td>199</td>\n",
              "      <td>199</td>\n",
              "      <td>199</td>\n",
              "      <td>199</td>\n",
              "      <td>199</td>\n",
              "    </tr>\n",
              "    <tr>\n",
              "      <th>AY12DBB0U420B</th>\n",
              "      <td>160</td>\n",
              "      <td>160</td>\n",
              "      <td>160</td>\n",
              "      <td>160</td>\n",
              "      <td>160</td>\n",
              "      <td>160</td>\n",
              "      <td>160</td>\n",
              "      <td>160</td>\n",
              "      <td>160</td>\n",
              "      <td>160</td>\n",
              "      <td>160</td>\n",
              "      <td>160</td>\n",
              "      <td>160</td>\n",
              "    </tr>\n",
              "  </tbody>\n",
              "</table>\n",
              "</div>"
            ],
            "text/plain": [
              "                 Id  ProductId  ...  clean_text_length  text_length\n",
              "UserId                          ...                                \n",
              "A1YUL9PCJR3JTY  367        367  ...                367          367\n",
              "A281NPSIMI1C2R  241        241  ...                241          241\n",
              "A3OXHLG6DIBRW8  221        221  ...                221          221\n",
              "A3TVZM3ZIXG8YW  199        199  ...                199          199\n",
              "AY12DBB0U420B   160        160  ...                160          160\n",
              "\n",
              "[5 rows x 13 columns]"
            ]
          },
          "metadata": {
            "tags": []
          },
          "execution_count": 97
        }
      ]
    },
    {
      "cell_type": "code",
      "metadata": {
        "id": "A2FlBmH1j3eM"
      },
      "source": [
        ""
      ],
      "execution_count": null,
      "outputs": []
    },
    {
      "cell_type": "code",
      "metadata": {
        "colab": {
          "base_uri": "https://localhost:8080/",
          "height": 390
        },
        "id": "awkkSfAA4QEy",
        "outputId": "687ea1d6-cefb-462d-fe22-cd80f98a5cdf"
      },
      "source": [
        "user_top_reviewer = user_number_review[user_number_review['Id'] > 10][['Id']]\n",
        "user_top_reviewer = user_top_reviewer.rename(columns = {\"Id\": \"count_reviews\"}, inplace = False)\n",
        "user_top_reviewer.head(10)"
      ],
      "execution_count": null,
      "outputs": [
        {
          "output_type": "execute_result",
          "data": {
            "text/html": [
              "<div>\n",
              "<style scoped>\n",
              "    .dataframe tbody tr th:only-of-type {\n",
              "        vertical-align: middle;\n",
              "    }\n",
              "\n",
              "    .dataframe tbody tr th {\n",
              "        vertical-align: top;\n",
              "    }\n",
              "\n",
              "    .dataframe thead th {\n",
              "        text-align: right;\n",
              "    }\n",
              "</style>\n",
              "<table border=\"1\" class=\"dataframe\">\n",
              "  <thead>\n",
              "    <tr style=\"text-align: right;\">\n",
              "      <th></th>\n",
              "      <th>count_reviews</th>\n",
              "    </tr>\n",
              "    <tr>\n",
              "      <th>UserId</th>\n",
              "      <th></th>\n",
              "    </tr>\n",
              "  </thead>\n",
              "  <tbody>\n",
              "    <tr>\n",
              "      <th>A1YUL9PCJR3JTY</th>\n",
              "      <td>367</td>\n",
              "    </tr>\n",
              "    <tr>\n",
              "      <th>A281NPSIMI1C2R</th>\n",
              "      <td>241</td>\n",
              "    </tr>\n",
              "    <tr>\n",
              "      <th>A3OXHLG6DIBRW8</th>\n",
              "      <td>221</td>\n",
              "    </tr>\n",
              "    <tr>\n",
              "      <th>A3TVZM3ZIXG8YW</th>\n",
              "      <td>199</td>\n",
              "    </tr>\n",
              "    <tr>\n",
              "      <th>AY12DBB0U420B</th>\n",
              "      <td>160</td>\n",
              "    </tr>\n",
              "    <tr>\n",
              "      <th>AQQLWCMRNDFGI</th>\n",
              "      <td>155</td>\n",
              "    </tr>\n",
              "    <tr>\n",
              "      <th>A1Z54EM24Y40LL</th>\n",
              "      <td>153</td>\n",
              "    </tr>\n",
              "    <tr>\n",
              "      <th>A3HPCRD9RX351S</th>\n",
              "      <td>146</td>\n",
              "    </tr>\n",
              "    <tr>\n",
              "      <th>A29JUMRL1US6YP</th>\n",
              "      <td>145</td>\n",
              "    </tr>\n",
              "    <tr>\n",
              "      <th>A1LZJZIHUPLDV4</th>\n",
              "      <td>144</td>\n",
              "    </tr>\n",
              "  </tbody>\n",
              "</table>\n",
              "</div>"
            ],
            "text/plain": [
              "                count_reviews\n",
              "UserId                       \n",
              "A1YUL9PCJR3JTY            367\n",
              "A281NPSIMI1C2R            241\n",
              "A3OXHLG6DIBRW8            221\n",
              "A3TVZM3ZIXG8YW            199\n",
              "AY12DBB0U420B             160\n",
              "AQQLWCMRNDFGI             155\n",
              "A1Z54EM24Y40LL            153\n",
              "A3HPCRD9RX351S            146\n",
              "A29JUMRL1US6YP            145\n",
              "A1LZJZIHUPLDV4            144"
            ]
          },
          "metadata": {
            "tags": []
          },
          "execution_count": 98
        }
      ]
    },
    {
      "cell_type": "code",
      "metadata": {
        "colab": {
          "base_uri": "https://localhost:8080/",
          "height": 450
        },
        "id": "krq0fdfB3J63",
        "outputId": "08e0a9f4-5606-4ba8-f5a5-6fa3c61d7edf"
      },
      "source": [
        "user_average_info = df.groupby(by=['UserId']).mean()\n",
        "user_average_info"
      ],
      "execution_count": null,
      "outputs": [
        {
          "output_type": "execute_result",
          "data": {
            "text/html": [
              "<div>\n",
              "<style scoped>\n",
              "    .dataframe tbody tr th:only-of-type {\n",
              "        vertical-align: middle;\n",
              "    }\n",
              "\n",
              "    .dataframe tbody tr th {\n",
              "        vertical-align: top;\n",
              "    }\n",
              "\n",
              "    .dataframe thead th {\n",
              "        text-align: right;\n",
              "    }\n",
              "</style>\n",
              "<table border=\"1\" class=\"dataframe\">\n",
              "  <thead>\n",
              "    <tr style=\"text-align: right;\">\n",
              "      <th></th>\n",
              "      <th>Id</th>\n",
              "      <th>HelpfulnessNumerator</th>\n",
              "      <th>HelpfulnessDenominator</th>\n",
              "      <th>Score</th>\n",
              "      <th>Time</th>\n",
              "      <th>Helpfulness_ratio</th>\n",
              "      <th>clean_text_length</th>\n",
              "      <th>text_length</th>\n",
              "    </tr>\n",
              "    <tr>\n",
              "      <th>UserId</th>\n",
              "      <th></th>\n",
              "      <th></th>\n",
              "      <th></th>\n",
              "      <th></th>\n",
              "      <th></th>\n",
              "      <th></th>\n",
              "      <th></th>\n",
              "      <th></th>\n",
              "    </tr>\n",
              "  </thead>\n",
              "  <tbody>\n",
              "    <tr>\n",
              "      <th>#oc-R103C0QSV1DF5E</th>\n",
              "      <td>136323.0</td>\n",
              "      <td>1.0</td>\n",
              "      <td>2.0</td>\n",
              "      <td>5.0</td>\n",
              "      <td>1.343088e+09</td>\n",
              "      <td>0.500000</td>\n",
              "      <td>21.0</td>\n",
              "      <td>56.0</td>\n",
              "    </tr>\n",
              "    <tr>\n",
              "      <th>#oc-R109MU5OBBZ59U</th>\n",
              "      <td>516062.0</td>\n",
              "      <td>0.0</td>\n",
              "      <td>1.0</td>\n",
              "      <td>5.0</td>\n",
              "      <td>1.350086e+09</td>\n",
              "      <td>0.000000</td>\n",
              "      <td>11.0</td>\n",
              "      <td>21.0</td>\n",
              "    </tr>\n",
              "    <tr>\n",
              "      <th>#oc-R10LFEMQEW6QGZ</th>\n",
              "      <td>516079.0</td>\n",
              "      <td>0.0</td>\n",
              "      <td>1.0</td>\n",
              "      <td>5.0</td>\n",
              "      <td>1.345939e+09</td>\n",
              "      <td>0.000000</td>\n",
              "      <td>50.0</td>\n",
              "      <td>85.0</td>\n",
              "    </tr>\n",
              "    <tr>\n",
              "      <th>#oc-R115TNMSPFT9I7</th>\n",
              "      <td>132095.0</td>\n",
              "      <td>2.0</td>\n",
              "      <td>3.0</td>\n",
              "      <td>2.0</td>\n",
              "      <td>1.331510e+09</td>\n",
              "      <td>0.666667</td>\n",
              "      <td>75.0</td>\n",
              "      <td>137.0</td>\n",
              "    </tr>\n",
              "    <tr>\n",
              "      <th>#oc-R119LM8D59ZW8Y</th>\n",
              "      <td>21719.0</td>\n",
              "      <td>5.0</td>\n",
              "      <td>11.0</td>\n",
              "      <td>1.0</td>\n",
              "      <td>1.320192e+09</td>\n",
              "      <td>0.454545</td>\n",
              "      <td>176.0</td>\n",
              "      <td>351.0</td>\n",
              "    </tr>\n",
              "    <tr>\n",
              "      <th>...</th>\n",
              "      <td>...</td>\n",
              "      <td>...</td>\n",
              "      <td>...</td>\n",
              "      <td>...</td>\n",
              "      <td>...</td>\n",
              "      <td>...</td>\n",
              "      <td>...</td>\n",
              "      <td>...</td>\n",
              "    </tr>\n",
              "    <tr>\n",
              "      <th>AZZU4D6TZ2L6J</th>\n",
              "      <td>387817.0</td>\n",
              "      <td>2.0</td>\n",
              "      <td>2.0</td>\n",
              "      <td>5.0</td>\n",
              "      <td>1.247875e+09</td>\n",
              "      <td>1.000000</td>\n",
              "      <td>12.0</td>\n",
              "      <td>22.0</td>\n",
              "    </tr>\n",
              "    <tr>\n",
              "      <th>AZZU5BA2CHYVF</th>\n",
              "      <td>367716.0</td>\n",
              "      <td>1.0</td>\n",
              "      <td>1.0</td>\n",
              "      <td>5.0</td>\n",
              "      <td>1.343434e+09</td>\n",
              "      <td>1.000000</td>\n",
              "      <td>55.0</td>\n",
              "      <td>123.0</td>\n",
              "    </tr>\n",
              "    <tr>\n",
              "      <th>AZZUQYE2C1LNI</th>\n",
              "      <td>486457.0</td>\n",
              "      <td>2.0</td>\n",
              "      <td>2.0</td>\n",
              "      <td>4.0</td>\n",
              "      <td>1.278374e+09</td>\n",
              "      <td>1.000000</td>\n",
              "      <td>41.0</td>\n",
              "      <td>66.0</td>\n",
              "    </tr>\n",
              "    <tr>\n",
              "      <th>AZZV9PDNMCOZW</th>\n",
              "      <td>312408.0</td>\n",
              "      <td>1.0</td>\n",
              "      <td>1.0</td>\n",
              "      <td>5.0</td>\n",
              "      <td>1.310429e+09</td>\n",
              "      <td>1.000000</td>\n",
              "      <td>26.0</td>\n",
              "      <td>57.0</td>\n",
              "    </tr>\n",
              "    <tr>\n",
              "      <th>AZZY649VYAHQS</th>\n",
              "      <td>222781.0</td>\n",
              "      <td>1.0</td>\n",
              "      <td>1.0</td>\n",
              "      <td>5.0</td>\n",
              "      <td>1.309738e+09</td>\n",
              "      <td>1.000000</td>\n",
              "      <td>21.0</td>\n",
              "      <td>46.0</td>\n",
              "    </tr>\n",
              "  </tbody>\n",
              "</table>\n",
              "<p>149986 rows × 8 columns</p>\n",
              "</div>"
            ],
            "text/plain": [
              "                          Id  ...  text_length\n",
              "UserId                        ...             \n",
              "#oc-R103C0QSV1DF5E  136323.0  ...         56.0\n",
              "#oc-R109MU5OBBZ59U  516062.0  ...         21.0\n",
              "#oc-R10LFEMQEW6QGZ  516079.0  ...         85.0\n",
              "#oc-R115TNMSPFT9I7  132095.0  ...        137.0\n",
              "#oc-R119LM8D59ZW8Y   21719.0  ...        351.0\n",
              "...                      ...  ...          ...\n",
              "AZZU4D6TZ2L6J       387817.0  ...         22.0\n",
              "AZZU5BA2CHYVF       367716.0  ...        123.0\n",
              "AZZUQYE2C1LNI       486457.0  ...         66.0\n",
              "AZZV9PDNMCOZW       312408.0  ...         57.0\n",
              "AZZY649VYAHQS       222781.0  ...         46.0\n",
              "\n",
              "[149986 rows x 8 columns]"
            ]
          },
          "metadata": {
            "tags": []
          },
          "execution_count": 90
        }
      ]
    },
    {
      "cell_type": "code",
      "metadata": {
        "id": "3pn_nnRMtIiJ"
      },
      "source": [
        "user_number_review = user_number_review[[\"Id\"]]"
      ],
      "execution_count": null,
      "outputs": []
    },
    {
      "cell_type": "code",
      "metadata": {
        "id": "BxaLN-6Au607"
      },
      "source": [
        "user_number_review = user_number_review.rename(columns = {\"Id\": \"count_reviews\"}, inplace = False)\n"
      ],
      "execution_count": null,
      "outputs": []
    },
    {
      "cell_type": "code",
      "metadata": {
        "colab": {
          "base_uri": "https://localhost:8080/",
          "height": 235
        },
        "id": "Jt_3J6HuuOBo",
        "outputId": "e1b51138-d773-4f5d-b3d4-da4c36e6e979"
      },
      "source": [
        "user_number_review.head()"
      ],
      "execution_count": null,
      "outputs": [
        {
          "output_type": "execute_result",
          "data": {
            "text/html": [
              "<div>\n",
              "<style scoped>\n",
              "    .dataframe tbody tr th:only-of-type {\n",
              "        vertical-align: middle;\n",
              "    }\n",
              "\n",
              "    .dataframe tbody tr th {\n",
              "        vertical-align: top;\n",
              "    }\n",
              "\n",
              "    .dataframe thead th {\n",
              "        text-align: right;\n",
              "    }\n",
              "</style>\n",
              "<table border=\"1\" class=\"dataframe\">\n",
              "  <thead>\n",
              "    <tr style=\"text-align: right;\">\n",
              "      <th></th>\n",
              "      <th>count_reviews</th>\n",
              "    </tr>\n",
              "    <tr>\n",
              "      <th>UserId</th>\n",
              "      <th></th>\n",
              "    </tr>\n",
              "  </thead>\n",
              "  <tbody>\n",
              "    <tr>\n",
              "      <th>A1YUL9PCJR3JTY</th>\n",
              "      <td>367</td>\n",
              "    </tr>\n",
              "    <tr>\n",
              "      <th>A281NPSIMI1C2R</th>\n",
              "      <td>241</td>\n",
              "    </tr>\n",
              "    <tr>\n",
              "      <th>A3OXHLG6DIBRW8</th>\n",
              "      <td>221</td>\n",
              "    </tr>\n",
              "    <tr>\n",
              "      <th>A3TVZM3ZIXG8YW</th>\n",
              "      <td>199</td>\n",
              "    </tr>\n",
              "    <tr>\n",
              "      <th>AY12DBB0U420B</th>\n",
              "      <td>160</td>\n",
              "    </tr>\n",
              "  </tbody>\n",
              "</table>\n",
              "</div>"
            ],
            "text/plain": [
              "                count_reviews\n",
              "UserId                       \n",
              "A1YUL9PCJR3JTY            367\n",
              "A281NPSIMI1C2R            241\n",
              "A3OXHLG6DIBRW8            221\n",
              "A3TVZM3ZIXG8YW            199\n",
              "AY12DBB0U420B             160"
            ]
          },
          "metadata": {
            "tags": []
          },
          "execution_count": 50
        }
      ]
    },
    {
      "cell_type": "code",
      "metadata": {
        "id": "xOBCIIzDuf2g"
      },
      "source": [
        "reviewer_avg_data = pd.merge(user_average_info, user_number_review, how = 'inner',on = 'UserId')"
      ],
      "execution_count": null,
      "outputs": []
    },
    {
      "cell_type": "code",
      "metadata": {
        "colab": {
          "base_uri": "https://localhost:8080/"
        },
        "id": "YTlR_d2MutO7",
        "outputId": "b5d75241-d775-4887-8984-2526a83f1205"
      },
      "source": [
        "reviewer_avg_data.shape"
      ],
      "execution_count": null,
      "outputs": [
        {
          "output_type": "execute_result",
          "data": {
            "text/plain": [
              "(149986, 10)"
            ]
          },
          "metadata": {
            "tags": []
          },
          "execution_count": 47
        }
      ]
    },
    {
      "cell_type": "code",
      "metadata": {
        "colab": {
          "base_uri": "https://localhost:8080/",
          "height": 357
        },
        "id": "S6IOftUguwcS",
        "outputId": "a66e1d23-a7ea-4a9d-fb36-ca8ff4ae13b2"
      },
      "source": [
        "reviewer_avg_data.head()"
      ],
      "execution_count": null,
      "outputs": [
        {
          "output_type": "execute_result",
          "data": {
            "text/html": [
              "<div>\n",
              "<style scoped>\n",
              "    .dataframe tbody tr th:only-of-type {\n",
              "        vertical-align: middle;\n",
              "    }\n",
              "\n",
              "    .dataframe tbody tr th {\n",
              "        vertical-align: top;\n",
              "    }\n",
              "\n",
              "    .dataframe thead th {\n",
              "        text-align: right;\n",
              "    }\n",
              "</style>\n",
              "<table border=\"1\" class=\"dataframe\">\n",
              "  <thead>\n",
              "    <tr style=\"text-align: right;\">\n",
              "      <th></th>\n",
              "      <th>Id</th>\n",
              "      <th>HelpfulnessNumerator</th>\n",
              "      <th>HelpfulnessDenominator</th>\n",
              "      <th>Score</th>\n",
              "      <th>Time</th>\n",
              "      <th>Helpfulness_ratio</th>\n",
              "      <th>clean_text_length</th>\n",
              "      <th>text_length</th>\n",
              "      <th>Helpfulness %</th>\n",
              "      <th>count_reviews</th>\n",
              "    </tr>\n",
              "    <tr>\n",
              "      <th>UserId</th>\n",
              "      <th></th>\n",
              "      <th></th>\n",
              "      <th></th>\n",
              "      <th></th>\n",
              "      <th></th>\n",
              "      <th></th>\n",
              "      <th></th>\n",
              "      <th></th>\n",
              "      <th></th>\n",
              "      <th></th>\n",
              "    </tr>\n",
              "  </thead>\n",
              "  <tbody>\n",
              "    <tr>\n",
              "      <th>#oc-R103C0QSV1DF5E</th>\n",
              "      <td>136323.0</td>\n",
              "      <td>1.0</td>\n",
              "      <td>2.0</td>\n",
              "      <td>5.0</td>\n",
              "      <td>1.343088e+09</td>\n",
              "      <td>0.500000</td>\n",
              "      <td>21.0</td>\n",
              "      <td>56.0</td>\n",
              "      <td>50.000000</td>\n",
              "      <td>1</td>\n",
              "    </tr>\n",
              "    <tr>\n",
              "      <th>#oc-R109MU5OBBZ59U</th>\n",
              "      <td>516062.0</td>\n",
              "      <td>0.0</td>\n",
              "      <td>1.0</td>\n",
              "      <td>5.0</td>\n",
              "      <td>1.350086e+09</td>\n",
              "      <td>0.000000</td>\n",
              "      <td>11.0</td>\n",
              "      <td>21.0</td>\n",
              "      <td>0.000000</td>\n",
              "      <td>1</td>\n",
              "    </tr>\n",
              "    <tr>\n",
              "      <th>#oc-R10LFEMQEW6QGZ</th>\n",
              "      <td>516079.0</td>\n",
              "      <td>0.0</td>\n",
              "      <td>1.0</td>\n",
              "      <td>5.0</td>\n",
              "      <td>1.345939e+09</td>\n",
              "      <td>0.000000</td>\n",
              "      <td>50.0</td>\n",
              "      <td>85.0</td>\n",
              "      <td>0.000000</td>\n",
              "      <td>1</td>\n",
              "    </tr>\n",
              "    <tr>\n",
              "      <th>#oc-R115TNMSPFT9I7</th>\n",
              "      <td>132095.0</td>\n",
              "      <td>2.0</td>\n",
              "      <td>3.0</td>\n",
              "      <td>2.0</td>\n",
              "      <td>1.331510e+09</td>\n",
              "      <td>0.666667</td>\n",
              "      <td>75.0</td>\n",
              "      <td>137.0</td>\n",
              "      <td>66.666667</td>\n",
              "      <td>2</td>\n",
              "    </tr>\n",
              "    <tr>\n",
              "      <th>#oc-R119LM8D59ZW8Y</th>\n",
              "      <td>21719.0</td>\n",
              "      <td>5.0</td>\n",
              "      <td>11.0</td>\n",
              "      <td>1.0</td>\n",
              "      <td>1.320192e+09</td>\n",
              "      <td>0.454545</td>\n",
              "      <td>176.0</td>\n",
              "      <td>351.0</td>\n",
              "      <td>45.454545</td>\n",
              "      <td>1</td>\n",
              "    </tr>\n",
              "  </tbody>\n",
              "</table>\n",
              "</div>"
            ],
            "text/plain": [
              "                          Id  ...  count_reviews\n",
              "UserId                        ...               \n",
              "#oc-R103C0QSV1DF5E  136323.0  ...              1\n",
              "#oc-R109MU5OBBZ59U  516062.0  ...              1\n",
              "#oc-R10LFEMQEW6QGZ  516079.0  ...              1\n",
              "#oc-R115TNMSPFT9I7  132095.0  ...              2\n",
              "#oc-R119LM8D59ZW8Y   21719.0  ...              1\n",
              "\n",
              "[5 rows x 10 columns]"
            ]
          },
          "metadata": {
            "tags": []
          },
          "execution_count": 52
        }
      ]
    },
    {
      "cell_type": "code",
      "metadata": {
        "id": "DI6rJej54Z-B"
      },
      "source": [
        "top_reviewer_avg_data = pd.merge(user_average_info,user_top_reviewer,how = 'inner',on = 'UserId')"
      ],
      "execution_count": null,
      "outputs": []
    },
    {
      "cell_type": "code",
      "metadata": {
        "colab": {
          "base_uri": "https://localhost:8080/"
        },
        "id": "i_nH3DTarmXX",
        "outputId": "98b739eb-c327-490b-af55-829df8021ff0"
      },
      "source": [
        "user_average_info.shape"
      ],
      "execution_count": null,
      "outputs": [
        {
          "output_type": "execute_result",
          "data": {
            "text/plain": [
              "(149828, 8)"
            ]
          },
          "metadata": {
            "tags": []
          },
          "execution_count": 37
        }
      ]
    },
    {
      "cell_type": "code",
      "metadata": {
        "colab": {
          "base_uri": "https://localhost:8080/"
        },
        "id": "V7px6wSDP03q",
        "outputId": "56dcc909-4fd0-4838-99d4-8d6df8f4dc1d"
      },
      "source": [
        "reviewer_avg_data.shape"
      ],
      "execution_count": null,
      "outputs": [
        {
          "output_type": "execute_result",
          "data": {
            "text/plain": [
              "(149828, 9)"
            ]
          },
          "metadata": {
            "tags": []
          },
          "execution_count": 36
        }
      ]
    },
    {
      "cell_type": "code",
      "metadata": {
        "colab": {
          "base_uri": "https://localhost:8080/",
          "height": 272
        },
        "id": "3VI3Z8yxrimJ",
        "outputId": "3bcb23d8-0a6f-42ca-8ebf-e964a096a097"
      },
      "source": [
        "top_reviewer_avg_data.head()"
      ],
      "execution_count": null,
      "outputs": [
        {
          "output_type": "execute_result",
          "data": {
            "text/html": [
              "<div>\n",
              "<style scoped>\n",
              "    .dataframe tbody tr th:only-of-type {\n",
              "        vertical-align: middle;\n",
              "    }\n",
              "\n",
              "    .dataframe tbody tr th {\n",
              "        vertical-align: top;\n",
              "    }\n",
              "\n",
              "    .dataframe thead th {\n",
              "        text-align: right;\n",
              "    }\n",
              "</style>\n",
              "<table border=\"1\" class=\"dataframe\">\n",
              "  <thead>\n",
              "    <tr style=\"text-align: right;\">\n",
              "      <th></th>\n",
              "      <th>Id</th>\n",
              "      <th>HelpfulnessNumerator</th>\n",
              "      <th>HelpfulnessDenominator</th>\n",
              "      <th>Score</th>\n",
              "      <th>Time</th>\n",
              "      <th>Helpfulness_ratio</th>\n",
              "      <th>clean_text_length</th>\n",
              "      <th>text_length</th>\n",
              "      <th>Helpfulness %</th>\n",
              "      <th>count_reviews</th>\n",
              "    </tr>\n",
              "    <tr>\n",
              "      <th>UserId</th>\n",
              "      <th></th>\n",
              "      <th></th>\n",
              "      <th></th>\n",
              "      <th></th>\n",
              "      <th></th>\n",
              "      <th></th>\n",
              "      <th></th>\n",
              "      <th></th>\n",
              "      <th></th>\n",
              "      <th></th>\n",
              "    </tr>\n",
              "  </thead>\n",
              "  <tbody>\n",
              "    <tr>\n",
              "      <th>A100WO06OQR8BQ</th>\n",
              "      <td>281565.781250</td>\n",
              "      <td>1.437500</td>\n",
              "      <td>4.156250</td>\n",
              "      <td>2.218750</td>\n",
              "      <td>1.319568e+09</td>\n",
              "      <td>0.293697</td>\n",
              "      <td>93.687500</td>\n",
              "      <td>185.250000</td>\n",
              "      <td>29.369658</td>\n",
              "      <td>32</td>\n",
              "    </tr>\n",
              "    <tr>\n",
              "      <th>A101P2KHWCU0G6</th>\n",
              "      <td>306505.230769</td>\n",
              "      <td>0.346154</td>\n",
              "      <td>1.653846</td>\n",
              "      <td>2.038462</td>\n",
              "      <td>1.338788e+09</td>\n",
              "      <td>0.346154</td>\n",
              "      <td>146.500000</td>\n",
              "      <td>287.923077</td>\n",
              "      <td>34.615385</td>\n",
              "      <td>26</td>\n",
              "    </tr>\n",
              "    <tr>\n",
              "      <th>A106ZCP7RSXMRU</th>\n",
              "      <td>298373.683333</td>\n",
              "      <td>3.183333</td>\n",
              "      <td>3.616667</td>\n",
              "      <td>4.716667</td>\n",
              "      <td>1.208736e+09</td>\n",
              "      <td>0.845754</td>\n",
              "      <td>48.766667</td>\n",
              "      <td>95.150000</td>\n",
              "      <td>84.575397</td>\n",
              "      <td>60</td>\n",
              "    </tr>\n",
              "    <tr>\n",
              "      <th>A1080SE9X3ECK0</th>\n",
              "      <td>275881.763158</td>\n",
              "      <td>2.447368</td>\n",
              "      <td>2.684211</td>\n",
              "      <td>4.631579</td>\n",
              "      <td>1.231436e+09</td>\n",
              "      <td>0.905336</td>\n",
              "      <td>21.894737</td>\n",
              "      <td>39.894737</td>\n",
              "      <td>90.533626</td>\n",
              "      <td>38</td>\n",
              "    </tr>\n",
              "    <tr>\n",
              "      <th>A10AFVU66A79Y1</th>\n",
              "      <td>308244.310345</td>\n",
              "      <td>2.310345</td>\n",
              "      <td>2.896552</td>\n",
              "      <td>2.931034</td>\n",
              "      <td>1.279611e+09</td>\n",
              "      <td>0.785386</td>\n",
              "      <td>72.000000</td>\n",
              "      <td>161.620690</td>\n",
              "      <td>78.538588</td>\n",
              "      <td>29</td>\n",
              "    </tr>\n",
              "  </tbody>\n",
              "</table>\n",
              "</div>"
            ],
            "text/plain": [
              "                           Id  ...  count_reviews\n",
              "UserId                         ...               \n",
              "A100WO06OQR8BQ  281565.781250  ...             32\n",
              "A101P2KHWCU0G6  306505.230769  ...             26\n",
              "A106ZCP7RSXMRU  298373.683333  ...             60\n",
              "A1080SE9X3ECK0  275881.763158  ...             38\n",
              "A10AFVU66A79Y1  308244.310345  ...             29\n",
              "\n",
              "[5 rows x 10 columns]"
            ]
          },
          "metadata": {
            "tags": []
          },
          "execution_count": 55
        }
      ]
    },
    {
      "cell_type": "code",
      "metadata": {
        "id": "9sh3mdr_Rq9b"
      },
      "source": [
        "top_reviewer_avg_data = top_reviewer_avg_data.reset_index(drop = True)"
      ],
      "execution_count": null,
      "outputs": []
    },
    {
      "cell_type": "code",
      "metadata": {
        "colab": {
          "base_uri": "https://localhost:8080/"
        },
        "id": "1OGMkJQyRd4P",
        "outputId": "680f3cc6-c488-4def-8069-5bfd9f7cd61b"
      },
      "source": [
        "top_reviewer_avg_data.value_counts(\"count_reviews\")"
      ],
      "execution_count": null,
      "outputs": [
        {
          "output_type": "execute_result",
          "data": {
            "text/plain": [
              "count_reviews\n",
              "1     108054\n",
              "2      17734\n",
              "3       7466\n",
              "4       5498\n",
              "5       2702\n",
              "6       1964\n",
              "7       1277\n",
              "8       1001\n",
              "9        816\n",
              "10       614\n",
              "dtype: int64"
            ]
          },
          "metadata": {
            "tags": []
          },
          "execution_count": 87
        }
      ]
    },
    {
      "cell_type": "code",
      "metadata": {
        "colab": {
          "base_uri": "https://localhost:8080/"
        },
        "id": "SwCN_4V9R6uG",
        "outputId": "07bf85c8-8891-4e50-ad71-804e3431e34b"
      },
      "source": [
        "max(top_reviewer_avg_data[\"count_reviews\"])"
      ],
      "execution_count": null,
      "outputs": [
        {
          "output_type": "execute_result",
          "data": {
            "text/plain": [
              "180"
            ]
          },
          "metadata": {
            "tags": []
          },
          "execution_count": 26
        }
      ]
    },
    {
      "cell_type": "markdown",
      "metadata": {
        "id": "wIsQRMzD47_S"
      },
      "source": [
        "Review helpfulness distribution for top reviewers¶\n"
      ]
    },
    {
      "cell_type": "code",
      "metadata": {
        "colab": {
          "base_uri": "https://localhost:8080/",
          "height": 300
        },
        "id": "7lTLh12u47_T",
        "outputId": "b4bc94f4-6ad8-4943-813f-ca9d1d9b8277"
      },
      "source": [
        "#計算ratio_helpful在不同的高級評論者(評論次數大於10)的次數\n",
        "# review helpfulness distribution\n",
        "top_reviewer_avg_data['Helpfulness_ratio'].hist(bins=10,label='review helpfullness top reviewers',alpha=0.7);\n",
        "\n",
        "plt.xlabel('Review Helpfulness ratio',fontsize=14);\n",
        "plt.ylabel('Count',fontsize=14);\n",
        "\n",
        "plt.grid(linewidth=0.5,alpha=0.75)\n",
        "\n",
        "\n",
        "plt.title('Review helpfulness for top reviewers',fontsize=14);"
      ],
      "execution_count": null,
      "outputs": [
        {
          "output_type": "display_data",
          "data": {
            "image/png": "[encoded data removed]",
            "text/plain": [
              "<Figure size 432x288 with 1 Axes>"
            ]
          },
          "metadata": {
            "tags": [],
            "needs_background": "light"
          }
        }
      ]
    },
    {
      "cell_type": "markdown",
      "metadata": {
        "id": "egHelaXDqTNy"
      },
      "source": [
        "Review helpfulness distribution for reviewers¶\n"
      ]
    },
    {
      "cell_type": "code",
      "metadata": {
        "colab": {
          "base_uri": "https://localhost:8080/",
          "height": 300
        },
        "id": "o57Pdt0Tps9g",
        "outputId": "16314983-a942-4e28-99cf-c69ee87a88aa"
      },
      "source": [
        "# review helpfulness distribution\n",
        "reviewer_avg_data[\"Helpfulness_ratio\"].hist(bins=10,label='review helpfullness reviewers',alpha=0.7);\n",
        "\n",
        "plt.xlabel('Review Helpfulness ratio',fontsize=14);\n",
        "plt.ylabel('Count',fontsize=14);\n",
        "\n",
        "plt.grid(linewidth=0.5,alpha=0.75)\n",
        "\n",
        "\n",
        "plt.title('Review helpfulness for reviewers',fontsize=14);"
      ],
      "execution_count": null,
      "outputs": [
        {
          "output_type": "display_data",
          "data": {
            "image/png": "[encoded data removed]",
            "text/plain": [
              "<Figure size 432x288 with 1 Axes>"
            ]
          },
          "metadata": {
            "tags": [],
            "needs_background": "light"
          }
        }
      ]
    },
    {
      "cell_type": "code",
      "metadata": {
        "colab": {
          "base_uri": "https://localhost:8080/",
          "height": 300
        },
        "id": "lE4Bovla1R9R",
        "outputId": "f50e7eba-2abd-4237-cc03-50ef2d70104e"
      },
      "source": [
        "plt.scatter(top_reviewer_avg_data['Helpfulness_ratio'], top_reviewer_avg_data['count_reviews'],alpha=0.7);\n",
        "plt.xlim(0,1);\n",
        "plt.xlabel('Helpfulness ratio',fontsize=14);\n",
        "plt.ylabel('Count reviews',fontsize=14);\n",
        "plt.grid(linewidth=0.5,alpha=0.75)\n",
        "\n",
        "\n",
        "plt.title('Review helpfulness ratio for top reviewers',fontsize=14);"
      ],
      "execution_count": null,
      "outputs": [
        {
          "output_type": "display_data",
          "data": {
            "image/png": "[encoded data removed]",
            "text/plain": [
              "<Figure size 432x288 with 1 Axes>"
            ]
          },
          "metadata": {
            "tags": [],
            "needs_background": "light"
          }
        }
      ]
    },
    {
      "cell_type": "code",
      "metadata": {
        "colab": {
          "base_uri": "https://localhost:8080/",
          "height": 300
        },
        "id": "iWH5Igrp2yAX",
        "outputId": "ab2d0398-9a25-4287-e309-57d6c50dad2f"
      },
      "source": [
        "plt.scatter(reviewer_avg_data['Helpfulness_ratio'], reviewer_avg_data['count_reviews'],alpha=0.7);\n",
        "plt.xlim(0,1);\n",
        "plt.xlabel('Helpfulness ratio',fontsize=14);\n",
        "plt.ylabel('Count reviews',fontsize=14);\n",
        "plt.grid(linewidth=0.5,alpha=0.75)\n",
        "\n",
        "\n",
        "plt.title('Review helpfulness ratio for reviewers',fontsize=14);"
      ],
      "execution_count": null,
      "outputs": [
        {
          "output_type": "display_data",
          "data": {
            "image/png": "[encoded data removed]",
            "text/plain": [
              "<Figure size 432x288 with 1 Axes>"
            ]
          },
          "metadata": {
            "tags": [],
            "needs_background": "light"
          }
        }
      ]
    },
    {
      "cell_type": "markdown",
      "metadata": {
        "id": "-Xh6ksDt47_T"
      },
      "source": [
        "Review helpfulness vs. review length for top reviewers¶\n"
      ]
    },
    {
      "cell_type": "code",
      "metadata": {
        "colab": {
          "base_uri": "https://localhost:8080/",
          "height": 235
        },
        "id": "v9EH71X447_T",
        "outputId": "01a0f862-5e26-417a-f8fd-e98ce7af7c2c"
      },
      "source": [
        "top_reviewer_avg_data.head()\n"
      ],
      "execution_count": null,
      "outputs": [
        {
          "output_type": "execute_result",
          "data": {
            "text/html": [
              "<div>\n",
              "<style scoped>\n",
              "    .dataframe tbody tr th:only-of-type {\n",
              "        vertical-align: middle;\n",
              "    }\n",
              "\n",
              "    .dataframe tbody tr th {\n",
              "        vertical-align: top;\n",
              "    }\n",
              "\n",
              "    .dataframe thead th {\n",
              "        text-align: right;\n",
              "    }\n",
              "</style>\n",
              "<table border=\"1\" class=\"dataframe\">\n",
              "  <thead>\n",
              "    <tr style=\"text-align: right;\">\n",
              "      <th></th>\n",
              "      <th>Id_x</th>\n",
              "      <th>HelpfulnessNumerator</th>\n",
              "      <th>HelpfulnessDenominator</th>\n",
              "      <th>Score</th>\n",
              "      <th>Time</th>\n",
              "      <th>Helpfulness_ratio</th>\n",
              "      <th>clean_text_length</th>\n",
              "      <th>text_length</th>\n",
              "      <th>Id_y</th>\n",
              "    </tr>\n",
              "    <tr>\n",
              "      <th>UserId</th>\n",
              "      <th></th>\n",
              "      <th></th>\n",
              "      <th></th>\n",
              "      <th></th>\n",
              "      <th></th>\n",
              "      <th></th>\n",
              "      <th></th>\n",
              "      <th></th>\n",
              "      <th></th>\n",
              "    </tr>\n",
              "  </thead>\n",
              "  <tbody>\n",
              "    <tr>\n",
              "      <th>A100WO06OQR8BQ</th>\n",
              "      <td>281565.781250</td>\n",
              "      <td>1.437500</td>\n",
              "      <td>4.156250</td>\n",
              "      <td>2.218750</td>\n",
              "      <td>1.319568e+09</td>\n",
              "      <td>0.293697</td>\n",
              "      <td>93.687500</td>\n",
              "      <td>185.250000</td>\n",
              "      <td>32</td>\n",
              "    </tr>\n",
              "    <tr>\n",
              "      <th>A101P2KHWCU0G6</th>\n",
              "      <td>306505.230769</td>\n",
              "      <td>0.346154</td>\n",
              "      <td>1.653846</td>\n",
              "      <td>2.038462</td>\n",
              "      <td>1.338788e+09</td>\n",
              "      <td>0.346154</td>\n",
              "      <td>146.500000</td>\n",
              "      <td>287.923077</td>\n",
              "      <td>26</td>\n",
              "    </tr>\n",
              "    <tr>\n",
              "      <th>A106ZCP7RSXMRU</th>\n",
              "      <td>298373.683333</td>\n",
              "      <td>3.183333</td>\n",
              "      <td>3.616667</td>\n",
              "      <td>4.716667</td>\n",
              "      <td>1.208736e+09</td>\n",
              "      <td>0.845754</td>\n",
              "      <td>48.766667</td>\n",
              "      <td>95.150000</td>\n",
              "      <td>60</td>\n",
              "    </tr>\n",
              "    <tr>\n",
              "      <th>A1080SE9X3ECK0</th>\n",
              "      <td>275881.763158</td>\n",
              "      <td>2.447368</td>\n",
              "      <td>2.684211</td>\n",
              "      <td>4.631579</td>\n",
              "      <td>1.231436e+09</td>\n",
              "      <td>0.905336</td>\n",
              "      <td>21.894737</td>\n",
              "      <td>39.894737</td>\n",
              "      <td>38</td>\n",
              "    </tr>\n",
              "    <tr>\n",
              "      <th>A10AFVU66A79Y1</th>\n",
              "      <td>308244.310345</td>\n",
              "      <td>2.310345</td>\n",
              "      <td>2.896552</td>\n",
              "      <td>2.931034</td>\n",
              "      <td>1.279611e+09</td>\n",
              "      <td>0.785386</td>\n",
              "      <td>72.000000</td>\n",
              "      <td>161.620690</td>\n",
              "      <td>29</td>\n",
              "    </tr>\n",
              "  </tbody>\n",
              "</table>\n",
              "</div>"
            ],
            "text/plain": [
              "                         Id_x  HelpfulnessNumerator  ...  text_length  Id_y\n",
              "UserId                                               ...                   \n",
              "A100WO06OQR8BQ  281565.781250              1.437500  ...   185.250000    32\n",
              "A101P2KHWCU0G6  306505.230769              0.346154  ...   287.923077    26\n",
              "A106ZCP7RSXMRU  298373.683333              3.183333  ...    95.150000    60\n",
              "A1080SE9X3ECK0  275881.763158              2.447368  ...    39.894737    38\n",
              "A10AFVU66A79Y1  308244.310345              2.310345  ...   161.620690    29\n",
              "\n",
              "[5 rows x 9 columns]"
            ]
          },
          "metadata": {
            "tags": []
          },
          "execution_count": 33
        }
      ]
    },
    {
      "cell_type": "markdown",
      "metadata": {
        "id": "QUvE3fLG47_U"
      },
      "source": [
        "To see the correlation with the average of \"text length\" and Helpfullness ratio for each top reviewers.\n",
        "\n",
        "\n"
      ]
    },
    {
      "cell_type": "code",
      "metadata": {
        "colab": {
          "base_uri": "https://localhost:8080/",
          "height": 300
        },
        "id": "f2FOHWwo47_U",
        "outputId": "870e204e-49ea-4e23-a7c0-b4816c0846b3"
      },
      "source": [
        "#高級評論者的平均評論長度和helpfulness ratio的散佈圖\n",
        "plt.scatter(top_reviewer_avg_data['text_length'], top_reviewer_avg_data['Helpfulness_ratio'],alpha=0.7);\n",
        "plt.xlim(0,700);\n",
        "plt.xlabel('Average Review Length',fontsize=14);\n",
        "plt.ylabel('Review Helpfullness ratio',fontsize=14);\n",
        "plt.grid(linewidth=0.5,alpha=0.75)\n",
        "\n",
        "\n",
        "plt.title('Review length for top reviewers',fontsize=14);"
      ],
      "execution_count": null,
      "outputs": [
        {
          "output_type": "display_data",
          "data": {
            "image/png": "[encoded data removed]",
            "text/plain": [
              "<Figure size 432x288 with 1 Axes>"
            ]
          },
          "metadata": {
            "tags": [],
            "needs_background": "light"
          }
        }
      ]
    },
    {
      "cell_type": "markdown",
      "metadata": {
        "id": "XeZ4Olq5rXde"
      },
      "source": [
        "To see the correlation with the average of \"clean text length\" and ratio_helpful for each top reviewers.\n"
      ]
    },
    {
      "cell_type": "code",
      "metadata": {
        "colab": {
          "base_uri": "https://localhost:8080/",
          "height": 300
        },
        "id": "dQNAFWZDrBZH",
        "outputId": "22341e12-522a-4307-a463-30a4b3654262"
      },
      "source": [
        "plt.scatter(top_reviewer_avg_data['clean_text_length'], top_reviewer_avg_data['Helpfulness_ratio'],alpha=0.7);\n",
        "plt.xlim(0,700);\n",
        "plt.xlabel('Average Clean Review Length',fontsize=14);\n",
        "plt.ylabel('Review Helpfullness ratio',fontsize=14);\n",
        "\n",
        "plt.grid(linewidth=0.5,alpha=0.75)\n",
        "\n",
        "\n",
        "plt.title('Clean Review length for top reviewers',fontsize=14);"
      ],
      "execution_count": null,
      "outputs": [
        {
          "output_type": "display_data",
          "data": {
            "image/png": "[encoded data removed]",
            "text/plain": [
              "<Figure size 432x288 with 1 Axes>"
            ]
          },
          "metadata": {
            "tags": [],
            "needs_background": "light"
          }
        }
      ]
    },
    {
      "cell_type": "markdown",
      "metadata": {
        "id": "ljsFruCs47_V"
      },
      "source": [
        "Review helpfulness vs. review count for top reviewers¶\n",
        "\n",
        "\n"
      ]
    },
    {
      "cell_type": "code",
      "metadata": {
        "colab": {
          "base_uri": "https://localhost:8080/",
          "height": 300
        },
        "id": "IFdwEkvj47_V",
        "outputId": "e531dd75-e7e8-4c26-e438-323922f37c2b"
      },
      "source": [
        "#高級評論者的評論次數和helpfulness ratio的散佈圖\n",
        "#review helpfulness vs. review count\n",
        "plt.scatter(top_reviewer_avg_data['count_reviews'],top_reviewer_avg_data[\"Helpfulness_ratio\"],alpha=0.7);\n",
        "plt.xlim(0,400);\n",
        "plt.xlabel('Review count',fontsize=14);\n",
        "plt.ylabel('Review Helpfullness ratio',fontsize=14);\n",
        "\n",
        "plt.grid(linewidth=0.5,alpha=0.75)\n",
        "\n",
        "\n",
        "plt.title('Top reviewers',fontsize=14);"
      ],
      "execution_count": null,
      "outputs": [
        {
          "output_type": "display_data",
          "data": {
            "image/png": "[encoded data removed]",
            "text/plain": [
              "<Figure size 432x288 with 1 Axes>"
            ]
          },
          "metadata": {
            "tags": [],
            "needs_background": "light"
          }
        }
      ]
    },
    {
      "cell_type": "markdown",
      "metadata": {
        "id": "yMW0bdnr47_V"
      },
      "source": [
        "Review frequency vs. review length for top reviewers¶\n",
        "\n",
        "\n"
      ]
    },
    {
      "cell_type": "code",
      "metadata": {
        "colab": {
          "base_uri": "https://localhost:8080/",
          "height": 300
        },
        "id": "TIWYDb9-47_V",
        "outputId": "5684df3b-3e45-4a0d-c3f0-e76e5881bdaf"
      },
      "source": [
        "#高級評論者的評論次數和平均評論長度的散佈圖\n",
        "#review count of top reviewers vs. review length\n",
        "plt.scatter(top_reviewer_avg_data['count_reviews'],top_reviewer_avg_data['clean_text_length'],alpha=0.7); #,c=top_reviewer_avg_data['ratio_helpful'])\n",
        "plt.xlim(0,400);\n",
        "\n",
        "plt.xlabel('Review count',fontsize=14);\n",
        "plt.ylabel('Clean review length',fontsize=14);\n",
        "\n",
        "plt.grid(linewidth=0.5,alpha=0.75)\n",
        "\n",
        "\n",
        "plt.title('Top reviewers',fontsize=14);\n"
      ],
      "execution_count": null,
      "outputs": [
        {
          "output_type": "display_data",
          "data": {
            "image/png": "[encoded data removed]",
            "text/plain": [
              "<Figure size 432x288 with 1 Axes>"
            ]
          },
          "metadata": {
            "tags": [],
            "needs_background": "light"
          }
        }
      ]
    },
    {
      "cell_type": "code",
      "metadata": {
        "id": "mDEXZFNlVVMZ",
        "colab": {
          "base_uri": "https://localhost:8080/",
          "height": 300
        },
        "outputId": "dbc376a5-5232-4864-b123-aa06013459cd"
      },
      "source": [
        "#高級評論者的評論次數和平均評論長度的散佈圖\n",
        "#review count of top reviewers vs. review length\n",
        "plt.scatter(reviewer_avg_data['count_reviews'],reviewer_avg_data['clean_text_length'],alpha=0.7); #,c=top_reviewer_avg_data['ratio_helpful'])\n",
        "plt.xlim(0,400);\n",
        "\n",
        "plt.xlabel('Review count',fontsize=14);\n",
        "plt.ylabel('Clean review length',fontsize=14);\n",
        "\n",
        "plt.grid(linewidth=0.5,alpha=0.75)\n",
        "\n",
        "\n",
        "plt.title('Reviewers',fontsize=14);\n"
      ],
      "execution_count": null,
      "outputs": [
        {
          "output_type": "display_data",
          "data": {
            "image/png": "[encoded data removed]",
            "text/plain": [
              "<Figure size 432x288 with 1 Axes>"
            ]
          },
          "metadata": {
            "tags": [],
            "needs_background": "light"
          }
        }
      ]
    },
    {
      "cell_type": "code",
      "metadata": {
        "id": "bRKVvJO5NKS1"
      },
      "source": [
        ""
      ],
      "execution_count": null,
      "outputs": []
    }
  ]
}